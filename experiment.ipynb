{
 "cells": [
  {
   "cell_type": "code",
   "execution_count": 2,
   "metadata": {},
   "outputs": [],
   "source": [
    "import git\n",
    "from git import repo"
   ]
  },
  {
   "cell_type": "code",
   "execution_count": 4,
   "metadata": {},
   "outputs": [
    {
     "name": "stdout",
     "output_type": "stream",
     "text": [
      "<git.repo.base.Repo 'c:\\\\Users\\\\Max\\\\1dev\\\\PythonProj\\\\Spyder\\\\GitPython\\\\.git'>\n"
     ]
    }
   ],
   "source": [
    "# mesmo sem clonar pode-se recuperar o repositório de uma pasta\n",
    "# que já tenha recebido git init\n",
    "repo = git.Repo(\".\")\n"
   ]
  },
  {
   "cell_type": "code",
   "execution_count": 7,
   "metadata": {},
   "outputs": [
    {
     "name": "stdout",
     "output_type": "stream",
     "text": [
      "feat18\n"
     ]
    }
   ],
   "source": [
    "# recebendo o nome da branch atual\n",
    "branch = repo.active_branch\n",
    "print(branch)"
   ]
  },
  {
   "cell_type": "code",
   "execution_count": 9,
   "metadata": {},
   "outputs": [
    {
     "data": {
      "text/plain": [
       "'On branch feat18\\nUntracked files:\\n  (use \"git add <file>...\" to include in what will be committed)\\n\\texperiment.ipynb\\n\\nnothing added to commit but untracked files present (use \"git add\" to track)'"
      ]
     },
     "execution_count": 9,
     "metadata": {},
     "output_type": "execute_result"
    }
   ],
   "source": [
    "# tomando o status\n",
    "repo.git.execute(\"git status\")\n",
    "# ou\n",
    "repo.git.status()"
   ]
  },
  {
   "cell_type": "code",
   "execution_count": 21,
   "metadata": {},
   "outputs": [
    {
     "data": {
      "text/plain": [
       "\"Your branch is up to date with 'origin/main'.\""
      ]
     },
     "execution_count": 21,
     "metadata": {},
     "output_type": "execute_result"
    }
   ],
   "source": [
    "# checkout -b\n",
    "# repo.git.execute(\"git checkout -b mybranch\")\n",
    "# checkout \n",
    "branch_destino = \"main\"\n",
    "# branch_destino = branch\n",
    "repo.git.execute(f\"git checkout {branch_destino}\")"
   ]
  },
  {
   "cell_type": "code",
   "execution_count": 19,
   "metadata": {},
   "outputs": [
    {
     "data": {
      "text/plain": [
       "''"
      ]
     },
     "execution_count": 19,
     "metadata": {},
     "output_type": "execute_result"
    }
   ],
   "source": [
    "# add all\n",
    "repo.git.add(\".\")"
   ]
  },
  {
   "cell_type": "code",
   "execution_count": 16,
   "metadata": {},
   "outputs": [
    {
     "data": {
      "text/plain": [
       "'On branch feat18\\nChanges to be committed:\\n  (use \"git restore --staged <file>...\" to unstage)\\n\\tnew file:   exp_apagar.py\\n\\tnew file:   experiment.ipynb\\n'"
      ]
     },
     "execution_count": 16,
     "metadata": {},
     "output_type": "execute_result"
    }
   ],
   "source": [
    "repo.git.status()"
   ]
  },
  {
   "cell_type": "code",
   "execution_count": 20,
   "metadata": {},
   "outputs": [
    {
     "data": {
      "text/plain": [
       "'[feat18 6a12e97] 😁 ipynb e requirements atualizados\\n 1 file changed, 0 insertions(+), 0 deletions(-)'"
      ]
     },
     "execution_count": 20,
     "metadata": {},
     "output_type": "execute_result"
    }
   ],
   "source": [
    "# commit\n",
    "# repo.git.commit(m = \"my commit message\")\n",
    "emoji = \"😁 \"\n",
    "repo.git.execute(f'''git commit -m \"{emoji}ipynb e requirements atualizados\"''')\n"
   ]
  },
  {
   "cell_type": "code",
   "execution_count": 22,
   "metadata": {},
   "outputs": [
    {
     "data": {
      "text/plain": [
       "''"
      ]
     },
     "execution_count": 22,
     "metadata": {},
     "output_type": "execute_result"
    }
   ],
   "source": [
    "repo.git.execute(f'git rebase {branch}')"
   ]
  },
  {
   "cell_type": "code",
   "execution_count": 26,
   "metadata": {},
   "outputs": [
    {
     "data": {
      "text/plain": [
       "''"
      ]
     },
     "execution_count": 26,
     "metadata": {},
     "output_type": "execute_result"
    }
   ],
   "source": [
    "# print(repo.git.push())\n",
    "# repo.git.execute(\"git push\")\n",
    "repo.git.push(\"origin\", \"HEAD:refs/for/main\")"
   ]
  }
 ],
 "metadata": {
  "interpreter": {
   "hash": "a714775bcb90c7f4a39bf909639ab7f855192870c597d94a168a3d401aae3c70"
  },
  "kernelspec": {
   "display_name": "Python 3.10.2 ('venv': venv)",
   "language": "python",
   "name": "python3"
  },
  "language_info": {
   "codemirror_mode": {
    "name": "ipython",
    "version": 3
   },
   "file_extension": ".py",
   "mimetype": "text/x-python",
   "name": "python",
   "nbconvert_exporter": "python",
   "pygments_lexer": "ipython3",
   "version": "3.10.2"
  },
  "orig_nbformat": 4
 },
 "nbformat": 4,
 "nbformat_minor": 2
}
